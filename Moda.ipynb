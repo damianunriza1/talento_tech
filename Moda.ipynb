{
  "nbformat": 4,
  "nbformat_minor": 0,
  "metadata": {
    "colab": {
      "provenance": [],
      "authorship_tag": "ABX9TyPGvrOgB9DAw3y1ffDDS8H/",
      "include_colab_link": true
    },
    "kernelspec": {
      "name": "python3",
      "display_name": "Python 3"
    },
    "language_info": {
      "name": "python"
    }
  },
  "cells": [
    {
      "cell_type": "markdown",
      "metadata": {
        "id": "view-in-github",
        "colab_type": "text"
      },
      "source": [
        "<a href=\"https://colab.research.google.com/github/damianunriza1/talento_tech/blob/main/Moda.ipynb\" target=\"_parent\"><img src=\"https://colab.research.google.com/assets/colab-badge.svg\" alt=\"Open In Colab\"/></a>"
      ]
    },
    {
      "cell_type": "code",
      "execution_count": 15,
      "metadata": {
        "id": "IpnxuUz7HQXY"
      },
      "outputs": [],
      "source": [
        "import tensorflow as tf\n",
        "from tensorflow.keras.datasets import fashion_mnist\n",
        "\n",
        "# Cargar el conjunto de datos Fashion MNIST\n",
        "(training_images, training_labels), (test_images, test_labels) = fashion_mnist.load_data()\n",
        "\n",
        "\n"
      ]
    },
    {
      "cell_type": "code",
      "source": [
        "training_images=training_images/255.0\n",
        "test_images=test_images/255.0"
      ],
      "metadata": {
        "id": "ehMBp0uDHqwF"
      },
      "execution_count": 16,
      "outputs": []
    },
    {
      "cell_type": "code",
      "source": [
        "model= keras.models.Sequential([\n",
        "  keras.layers.Conv2D(64, (3,3), activation='relu', input_shape=(28, 28, 1)),\n",
        "  keras.layers.MaxPooling2D(2, 2),\n",
        "  keras.layers.Flatten(),\n",
        "  keras.layers.Dense(128, activation='relu'),\n",
        "  keras.layers.Dense(10, activation='softmax')\n",
        "])"
      ],
      "metadata": {
        "id": "Bn4ya9G4INTB"
      },
      "execution_count": 17,
      "outputs": []
    },
    {
      "cell_type": "code",
      "source": [
        "model.summary()"
      ],
      "metadata": {
        "colab": {
          "base_uri": "https://localhost:8080/"
        },
        "id": "wyxSGx4PIklE",
        "outputId": "e3dbb6bf-4473-4c7a-973e-bebec0188705"
      },
      "execution_count": 18,
      "outputs": [
        {
          "output_type": "stream",
          "name": "stdout",
          "text": [
            "Model: \"sequential_1\"\n",
            "_________________________________________________________________\n",
            " Layer (type)                Output Shape              Param #   \n",
            "=================================================================\n",
            " conv2d_1 (Conv2D)           (None, 26, 26, 64)        640       \n",
            "                                                                 \n",
            " max_pooling2d_1 (MaxPoolin  (None, 13, 13, 64)        0         \n",
            " g2D)                                                            \n",
            "                                                                 \n",
            " flatten_1 (Flatten)         (None, 10816)             0         \n",
            "                                                                 \n",
            " dense_2 (Dense)             (None, 128)               1384576   \n",
            "                                                                 \n",
            " dense_3 (Dense)             (None, 10)                1290      \n",
            "                                                                 \n",
            "=================================================================\n",
            "Total params: 1386506 (5.29 MB)\n",
            "Trainable params: 1386506 (5.29 MB)\n",
            "Non-trainable params: 0 (0.00 Byte)\n",
            "_________________________________________________________________\n"
          ]
        }
      ]
    },
    {
      "cell_type": "code",
      "source": [
        "model.compile(optimizer='adam', loss='sparse_categorical_crossentropy', metrics=['accuracy'])\n"
      ],
      "metadata": {
        "id": "e_sU1gq7Je76"
      },
      "execution_count": 19,
      "outputs": []
    },
    {
      "cell_type": "code",
      "source": [
        "history=model.fit(training_images, training_labels, epochs=10, validation_data=(test_images, test_labels))"
      ],
      "metadata": {
        "colab": {
          "base_uri": "https://localhost:8080/"
        },
        "id": "KxtvDLO1e6GP",
        "outputId": "cf3baff1-1839-4fe8-d39c-037cda53faef"
      },
      "execution_count": 20,
      "outputs": [
        {
          "output_type": "stream",
          "name": "stdout",
          "text": [
            "Epoch 1/10\n",
            "1875/1875 [==============================] - 72s 38ms/step - loss: 0.3774 - accuracy: 0.8665 - val_loss: 0.2902 - val_accuracy: 0.8928\n",
            "Epoch 2/10\n",
            "1875/1875 [==============================] - 70s 37ms/step - loss: 0.2515 - accuracy: 0.9078 - val_loss: 0.2694 - val_accuracy: 0.9031\n",
            "Epoch 3/10\n",
            "1875/1875 [==============================] - 69s 37ms/step - loss: 0.2074 - accuracy: 0.9239 - val_loss: 0.2749 - val_accuracy: 0.9054\n",
            "Epoch 4/10\n",
            "1875/1875 [==============================] - 72s 38ms/step - loss: 0.1747 - accuracy: 0.9348 - val_loss: 0.2417 - val_accuracy: 0.9154\n",
            "Epoch 5/10\n",
            "1875/1875 [==============================] - 69s 37ms/step - loss: 0.1445 - accuracy: 0.9468 - val_loss: 0.2577 - val_accuracy: 0.9136\n",
            "Epoch 6/10\n",
            "1875/1875 [==============================] - 69s 37ms/step - loss: 0.1199 - accuracy: 0.9554 - val_loss: 0.2799 - val_accuracy: 0.9131\n",
            "Epoch 7/10\n",
            "1875/1875 [==============================] - 70s 37ms/step - loss: 0.0992 - accuracy: 0.9630 - val_loss: 0.2772 - val_accuracy: 0.9180\n",
            "Epoch 8/10\n",
            "1875/1875 [==============================] - 70s 37ms/step - loss: 0.0829 - accuracy: 0.9686 - val_loss: 0.2858 - val_accuracy: 0.9202\n",
            "Epoch 9/10\n",
            "1875/1875 [==============================] - 69s 37ms/step - loss: 0.0683 - accuracy: 0.9744 - val_loss: 0.3540 - val_accuracy: 0.9074\n",
            "Epoch 10/10\n",
            "1875/1875 [==============================] - 69s 37ms/step - loss: 0.0581 - accuracy: 0.9782 - val_loss: 0.3723 - val_accuracy: 0.9140\n"
          ]
        }
      ]
    },
    {
      "cell_type": "code",
      "source": [
        "loss, accuracy = model.evaluate(training_images, training_labels)\n",
        "print(loss)\n",
        "print(accuracy)"
      ],
      "metadata": {
        "colab": {
          "base_uri": "https://localhost:8080/"
        },
        "id": "Gn0uOuDmdafv",
        "outputId": "248802cc-8f60-4a0e-b09a-fcf6316a0d21"
      },
      "execution_count": 21,
      "outputs": [
        {
          "output_type": "stream",
          "name": "stdout",
          "text": [
            "1875/1875 [==============================] - 18s 10ms/step - loss: 0.0468 - accuracy: 0.9833\n",
            "0.04679209366440773\n",
            "0.9833499789237976\n"
          ]
        }
      ]
    },
    {
      "cell_type": "code",
      "source": [
        "loss, accuracy = model.evaluate(x_train)\n",
        "print(loss)\n",
        "print(accuracy)"
      ],
      "metadata": {
        "colab": {
          "base_uri": "https://localhost:8080/"
        },
        "id": "0kyglHDAeDV-",
        "outputId": "3c8e4c48-e27c-46c3-e013-9ebb50dcd480"
      },
      "execution_count": 14,
      "outputs": [
        {
          "output_type": "stream",
          "name": "stdout",
          "text": [
            "1875/1875 [==============================] - 3s 2ms/step - loss: 0.0000e+00 - accuracy: 0.0000e+00\n",
            "0.0\n",
            "0.0\n"
          ]
        }
      ]
    },
    {
      "cell_type": "code",
      "source": [
        "loss, accuracy = model.evaluate(test_images, test_labels)\n",
        "print(loss)\n",
        "print(accuracy)"
      ],
      "metadata": {
        "colab": {
          "base_uri": "https://localhost:8080/"
        },
        "id": "YTC-IFlreJS_",
        "outputId": "4f7b194a-6749-41fa-9b62-241b0441ce7d"
      },
      "execution_count": 22,
      "outputs": [
        {
          "output_type": "stream",
          "name": "stdout",
          "text": [
            "313/313 [==============================] - 3s 8ms/step - loss: 0.3723 - accuracy: 0.9140\n",
            "0.3722931742668152\n",
            "0.9139999747276306\n"
          ]
        }
      ]
    },
    {
      "cell_type": "code",
      "source": [
        "index=1\n",
        "print(f'Label: {test_labels[index]}')\n",
        "Classification=model.predict(test_images[index:index+1])\n",
        "print(f'Classification:\\n{Classification.reshape(-1,1)}')"
      ],
      "metadata": {
        "colab": {
          "base_uri": "https://localhost:8080/"
        },
        "id": "WksAdSn8eKfE",
        "outputId": "b97c64dc-caa0-4e04-a855-66596e8bf3df"
      },
      "execution_count": 23,
      "outputs": [
        {
          "output_type": "stream",
          "name": "stdout",
          "text": [
            "Label: 2\n",
            "1/1 [==============================] - 0s 75ms/step\n",
            "Classification:\n",
            "[[2.9870625e-10]\n",
            " [1.1618165e-18]\n",
            " [1.0000000e+00]\n",
            " [3.9290633e-14]\n",
            " [1.0709258e-11]\n",
            " [2.1386086e-21]\n",
            " [2.2293940e-10]\n",
            " [8.4780925e-15]\n",
            " [1.1482695e-15]\n",
            " [6.5086880e-16]]\n"
          ]
        }
      ]
    },
    {
      "cell_type": "code",
      "source": [
        "print(test_labels[:30])"
      ],
      "metadata": {
        "colab": {
          "base_uri": "https://localhost:8080/"
        },
        "id": "po9QJXSFeOOm",
        "outputId": "7198ceb1-492d-4137-c3b6-b77d50e10e97"
      },
      "execution_count": 24,
      "outputs": [
        {
          "output_type": "stream",
          "name": "stdout",
          "text": [
            "[9 2 1 1 6 1 4 6 5 7 4 5 7 3 4 1 2 4 8 0 2 5 7 9 1 4 6 0 9 3]\n"
          ]
        }
      ]
    },
    {
      "cell_type": "code",
      "source": [
        "FIRST_NAME=3\n",
        "SECOND_IMAGE=10\n",
        "THIRD_IMAGE=25\n",
        "\n",
        "print(test_labels[FIRST_NAME])\n",
        "print(test_labels[SECOND_IMAGE])\n",
        "print(test_labels[THIRD_IMAGE])"
      ],
      "metadata": {
        "colab": {
          "base_uri": "https://localhost:8080/"
        },
        "id": "swOAnDRKeS1Q",
        "outputId": "c281db0b-a021-40bc-ec8e-a92d537b37c5"
      },
      "execution_count": 25,
      "outputs": [
        {
          "output_type": "stream",
          "name": "stdout",
          "text": [
            "1\n",
            "4\n",
            "4\n"
          ]
        }
      ]
    },
    {
      "cell_type": "code",
      "source": [
        "f, axarr= plt.subplots(1,3)\n",
        "axarr[0].imshow(test_images[FIRST_NAME])\n",
        "axarr[1].imshow(test_images[SECOND_IMAGE])\n",
        "axarr[2].imshow(test_images[THIRD_IMAGE])"
      ],
      "metadata": {
        "colab": {
          "base_uri": "https://localhost:8080/",
          "height": 226
        },
        "id": "IjXjTMFDelA_",
        "outputId": "f41fd544-1ce1-454d-c61b-513a822176f2"
      },
      "execution_count": 26,
      "outputs": [
        {
          "output_type": "execute_result",
          "data": {
            "text/plain": [
              "<matplotlib.image.AxesImage at 0x78379478cb20>"
            ]
          },
          "metadata": {},
          "execution_count": 26
        },
        {
          "output_type": "display_data",
          "data": {
            "text/plain": [
              "<Figure size 640x480 with 3 Axes>"
            ],
            "image/png": "[encoded data removed]"
          },
          "metadata": {}
        }
      ]
    },
    {
      "cell_type": "code",
      "source": [
        "layer=0\n",
        "filter1=0\n",
        "filter2=10\n",
        "\n",
        "layer_outputs=[layer.output for layer in model.layers]\n",
        "activation_model=keras.models.Model(inputs=model.input, outputs=layer_outputs)"
      ],
      "metadata": {
        "id": "zRn4bu5-emOh"
      },
      "execution_count": 27,
      "outputs": []
    },
    {
      "cell_type": "code",
      "source": [
        "f, axarr= plt.subplots(3,3)\n",
        "\n",
        "axarr[0,0].set_title('Image Input')\n",
        "axarr[0,0].imshow(test_images[FIRST_NAME])\n",
        "f1=activation_model.predict(test_images[FIRST_NAME].reshape(1,28,28,1))[layer]\n",
        "axarr[0,1].set_title('Layer'+str(layer)+\",Filter1\")\n",
        "axarr[0,1].imshow(f1[0,:,:,filter1])\n",
        "axarr[0,2].set_title('Layer'+str(layer)+\",Filter2\")\n",
        "axarr[0,2].imshow(f1[0,:,:,filter2])\n",
        "\n",
        "axarr[1,0].imshow(test_images[SECOND_IMAGE])\n",
        "F2=activation_model.predict(test_images[SECOND_IMAGE].reshape(1,28,28,1))[layer]\n",
        "axarr[1,1].imshow(F2[0,:,:,filter1])\n",
        "axarr[1,2].imshow(F2[0,:,:,filter2])\n",
        "\n",
        "axarr[2,0].imshow(test_images[THIRD_IMAGE])\n",
        "F3=activation_model.predict(test_images[THIRD_IMAGE].reshape(1,28,28,1))[layer]\n",
        "axarr[2,1].imshow(F3[0,:,:,filter1])\n",
        "axarr[2,2].imshow(F3[0,:,:,filter2])"
      ],
      "metadata": {
        "colab": {
          "base_uri": "https://localhost:8080/",
          "height": 520
        },
        "id": "orZnmp1_epfr",
        "outputId": "c4bf108a-11a9-452d-be4e-15330b1eaee2"
      },
      "execution_count": 28,
      "outputs": [
        {
          "output_type": "stream",
          "name": "stdout",
          "text": [
            "1/1 [==============================] - 0s 83ms/step\n",
            "1/1 [==============================] - 0s 23ms/step\n",
            "1/1 [==============================] - 0s 28ms/step\n"
          ]
        },
        {
          "output_type": "execute_result",
          "data": {
            "text/plain": [
              "<matplotlib.image.AxesImage at 0x78376a9ceef0>"
            ]
          },
          "metadata": {},
          "execution_count": 28
        },
        {
          "output_type": "display_data",
          "data": {
            "text/plain": [
              "<Figure size 640x480 with 9 Axes>"
            ],
            "image/png": "[encoded data removed]"
          },
          "metadata": {}
        }
      ]
    }
  ]
}