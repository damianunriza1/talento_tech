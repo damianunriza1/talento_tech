{
  "metadata": {
    "kernelspec": {
      "language": "python",
      "display_name": "Python 3",
      "name": "python3"
    },
    "language_info": {
      "pygments_lexer": "ipython3",
      "nbconvert_exporter": "python",
      "version": "3.6.4",
      "file_extension": ".py",
      "codemirror_mode": {
        "name": "ipython",
        "version": 3
      },
      "name": "python",
      "mimetype": "text/x-python"
    },
    "colab": {
      "name": "Clustering wine: K-means + PCA or UMAP",
      "provenance": []
    }
  },
  "nbformat_minor": 0,
  "nbformat": 4,
  "cells": [
    {
      "source": [
        "\n",
        "# IMPORTANT: RUN THIS CELL IN ORDER TO IMPORT YOUR KAGGLE DATA SOURCES\n",
        "# TO THE CORRECT LOCATION (/kaggle/input) IN YOUR NOTEBOOK,\n",
        "# THEN FEEL FREE TO DELETE THIS CELL.\n",
        "# NOTE: THIS NOTEBOOK ENVIRONMENT DIFFERS FROM KAGGLE'S PYTHON\n",
        "# ENVIRONMENT SO THERE MAY BE MISSING LIBRARIES USED BY YOUR\n",
        "# NOTEBOOK.\n",
        "\n",
        "import os\n",
        "import sys\n",
        "from tempfile import NamedTemporaryFile\n",
        "from urllib.request import urlopen\n",
        "from urllib.parse import unquote, urlparse\n",
        "from urllib.error import HTTPError\n",
        "from zipfile import ZipFile\n",
        "import tarfile\n",
        "import shutil\n",
        "\n",
        "CHUNK_SIZE = 40960\n",
        "DATA_SOURCE_MAPPING = 'wine-dataset-for-clustering:https%3A%2F%2Fstorage.googleapis.com%2Fkaggle-data-sets%2F626341%2F1116242%2Fbundle%2Farchive.zip%3FX-Goog-Algorithm%3DGOOG4-RSA-SHA256%26X-Goog-Credential%3Dgcp-kaggle-com%2540kaggle-161607.iam.gserviceaccount.com%252F20240618%252Fauto%252Fstorage%252Fgoog4_request%26X-Goog-Date%3D20240618T112447Z%26X-Goog-Expires%3D259200%26X-Goog-SignedHeaders%3Dhost%26X-Goog-Signature%3D9efa22199f66b10391ba6cdd69dad76ece30804b26c4ac49b1e071d1280653d8f5ee37eaec5246d633133994489fc54f2b89077e7be53ebaa796a4b6b06df31380686a81476c38fc3deb6aba03d411c68e2ca77c5d3266cf8645ea27cdd685eca37390d51326e8d16ea70751cce27a6e33b85b4e213836625ce64cce9646aaa8715619020d86bfe05042bc697b8bfce3ce3200821f477d66e7142059d974f1f9e8e807f5e08b6893dc2bf2cc616af125f6f586457fc7c416518218318fb35e30fd51bd0a5fbb10051c4e2123946f847d4b8563684c761a11ae2c464af35a34c60f483d64dfc2001be1e3a01d642674173b346a8040069e07d44bad5053447ad1'\n",
        "\n",
        "KAGGLE_INPUT_PATH='/kaggle/input'\n",
        "KAGGLE_WORKING_PATH='/kaggle/working'\n",
        "KAGGLE_SYMLINK='kaggle'\n",
        "\n",
        "!umount /kaggle/input/ 2> /dev/null\n",
        "shutil.rmtree('/kaggle/input', ignore_errors=True)\n",
        "os.makedirs(KAGGLE_INPUT_PATH, 0o777, exist_ok=True)\n",
        "os.makedirs(KAGGLE_WORKING_PATH, 0o777, exist_ok=True)\n",
        "\n",
        "try:\n",
        "  os.symlink(KAGGLE_INPUT_PATH, os.path.join(\"..\", 'input'), target_is_directory=True)\n",
        "except FileExistsError:\n",
        "  pass\n",
        "try:\n",
        "  os.symlink(KAGGLE_WORKING_PATH, os.path.join(\"..\", 'working'), target_is_directory=True)\n",
        "except FileExistsError:\n",
        "  pass\n",
        "\n",
        "for data_source_mapping in DATA_SOURCE_MAPPING.split(','):\n",
        "    directory, download_url_encoded = data_source_mapping.split(':')\n",
        "    download_url = unquote(download_url_encoded)\n",
        "    filename = urlparse(download_url).path\n",
        "    destination_path = os.path.join(KAGGLE_INPUT_PATH, directory)\n",
        "    try:\n",
        "        with urlopen(download_url) as fileres, NamedTemporaryFile() as tfile:\n",
        "            total_length = fileres.headers['content-length']\n",
        "            print(f'Downloading {directory}, {total_length} bytes compressed')\n",
        "            dl = 0\n",
        "            data = fileres.read(CHUNK_SIZE)\n",
        "            while len(data) > 0:\n",
        "                dl += len(data)\n",
        "                tfile.write(data)\n",
        "                done = int(50 * dl / int(total_length))\n",
        "                sys.stdout.write(f\"\\r[{'=' * done}{' ' * (50-done)}] {dl} bytes downloaded\")\n",
        "                sys.stdout.flush()\n",
        "                data = fileres.read(CHUNK_SIZE)\n",
        "            if filename.endswith('.zip'):\n",
        "              with ZipFile(tfile) as zfile:\n",
        "                zfile.extractall(destination_path)\n",
        "            else:\n",
        "              with tarfile.open(tfile.name) as tarfile:\n",
        "                tarfile.extractall(destination_path)\n",
        "            print(f'\\nDownloaded and uncompressed: {directory}')\n",
        "    except HTTPError as e:\n",
        "        print(f'Failed to load (likely expired) {download_url} to path {destination_path}')\n",
        "        continue\n",
        "    except OSError as e:\n",
        "        print(f'Failed to load {download_url} to path {destination_path}')\n",
        "        continue\n",
        "\n",
        "print('Data source import complete.')\n"
      ],
      "metadata": {
        "id": "OOTQ-QVqF55t"
      },
      "cell_type": "code",
      "outputs": [],
      "execution_count": null
    },
    {
      "cell_type": "markdown",
      "source": [
        "# Introduction\n",
        "\n",
        "***Motivation***\n",
        "\n",
        "This notebook utilizes a dataset containing the results of the chemical analysis of Italian wines to explore the **influence of dimensionality reduction on clustering results**. K-means is used (i) **without any** prior dimensionality reduction, (ii) with prior dimensionality reduction via principal component analysis (**PCA**), and (iii) with prior dimensionality reduction via **UMAP**. All other aspects are kept deliberately simple.\n",
        "\n",
        "\n",
        "***Link to dataset***\n",
        "\n",
        "https://www.kaggle.com/datasets/harrywang/wine-dataset-for-clustering\n",
        "\n",
        "\n",
        "***Data dictionary (from above source)***\n",
        "\n",
        "Features (all numercial):\n",
        "- Alcohol\n",
        "- Malic acid\n",
        "- Ash\n",
        "- Alcalinity of ash\n",
        "- Magnesium\n",
        "- Total phenols\n",
        "- Flavanoids\n",
        "- Nonflavanoid phenols\n",
        "- Proanthocyanins\n",
        "- Color intensity\n",
        "- Hue\n",
        "- OD280/OD315 of diluted wines\n",
        "- Proline\n"
      ],
      "metadata": {
        "id": "kYYt9UfvF55w"
      }
    },
    {
      "cell_type": "markdown",
      "source": [
        "**Imports and global settings**"
      ],
      "metadata": {
        "id": "u2uKLAHTF55x"
      }
    },
    {
      "cell_type": "code",
      "source": [
        "import numpy as np\n",
        "import pandas as pd\n",
        "\n",
        "import matplotlib.pyplot as plt\n",
        "import seaborn as sns\n",
        "\n",
        "%matplotlib inline\n",
        "sns.set_style(\"darkgrid\")\n",
        "\n",
        "from sklearn.preprocessing import StandardScaler\n",
        "from sklearn.preprocessing import PowerTransformer\n",
        "\n",
        "from sklearn.decomposition import PCA\n",
        "import umap\n",
        "\n",
        "from sklearn.cluster import KMeans\n",
        "\n",
        "import random\n",
        "\n",
        "std_figure_size = (8,5)\n",
        "plt.rc(\"axes\", labelweight=\"bold\", labelsize=\"large\", titleweight=\"bold\", titlesize=14, titlepad=10)\n",
        "\n",
        "fixed_random_state = random.seed(42)\n",
        "\n",
        "%config IPCompleter.use_jedi=False"
      ],
      "metadata": {
        "execution": {
          "iopub.status.busy": "2022-10-21T15:19:09.115996Z",
          "iopub.execute_input": "2022-10-21T15:19:09.116391Z",
          "iopub.status.idle": "2022-10-21T15:19:09.136884Z",
          "shell.execute_reply.started": "2022-10-21T15:19:09.116337Z",
          "shell.execute_reply": "2022-10-21T15:19:09.13576Z"
        },
        "trusted": true,
        "id": "1Q_6CNbQF55x"
      },
      "execution_count": null,
      "outputs": []
    },
    {
      "cell_type": "markdown",
      "source": [
        "**Reading in the dataset**"
      ],
      "metadata": {
        "id": "z6wzSOV4F55x"
      }
    },
    {
      "cell_type": "code",
      "source": [
        "df = pd.read_csv(\"../input/wine-dataset-for-clustering/wine-clustering.csv\")\n",
        "\n",
        "df.head()"
      ],
      "metadata": {
        "execution": {
          "iopub.status.busy": "2022-10-21T15:19:09.138534Z",
          "iopub.execute_input": "2022-10-21T15:19:09.139078Z",
          "iopub.status.idle": "2022-10-21T15:19:09.180865Z",
          "shell.execute_reply.started": "2022-10-21T15:19:09.139045Z",
          "shell.execute_reply": "2022-10-21T15:19:09.180199Z"
        },
        "trusted": true,
        "id": "nh-mhMMCF55x"
      },
      "execution_count": null,
      "outputs": []
    },
    {
      "cell_type": "markdown",
      "source": [
        "**Any duplicate rows?**"
      ],
      "metadata": {
        "id": "HKtn9GQsF55x"
      }
    },
    {
      "cell_type": "code",
      "source": [
        "n_dup = len(df) - len(df.drop_duplicates())\n",
        "\n",
        "print(f\"Number of duplicate rows: {n_dup}\")"
      ],
      "metadata": {
        "execution": {
          "iopub.status.busy": "2022-10-21T15:19:09.181928Z",
          "iopub.execute_input": "2022-10-21T15:19:09.182348Z",
          "iopub.status.idle": "2022-10-21T15:19:09.190608Z",
          "shell.execute_reply.started": "2022-10-21T15:19:09.182321Z",
          "shell.execute_reply": "2022-10-21T15:19:09.189652Z"
        },
        "trusted": true,
        "id": "-PwtUgr-F55y"
      },
      "execution_count": null,
      "outputs": []
    },
    {
      "cell_type": "markdown",
      "source": [
        "**Any missing values?**"
      ],
      "metadata": {
        "id": "N1I_7euZF55y"
      }
    },
    {
      "cell_type": "code",
      "source": [
        "df.isnull().sum()"
      ],
      "metadata": {
        "execution": {
          "iopub.status.busy": "2022-10-21T15:19:09.193295Z",
          "iopub.execute_input": "2022-10-21T15:19:09.19392Z",
          "iopub.status.idle": "2022-10-21T15:19:09.209115Z",
          "shell.execute_reply.started": "2022-10-21T15:19:09.193877Z",
          "shell.execute_reply": "2022-10-21T15:19:09.208007Z"
        },
        "trusted": true,
        "id": "nEdkNTtgF55y"
      },
      "execution_count": null,
      "outputs": []
    },
    {
      "cell_type": "markdown",
      "source": [
        "**Checking data types**"
      ],
      "metadata": {
        "id": "rkG51GN_F55y"
      }
    },
    {
      "cell_type": "code",
      "source": [
        "df.info()"
      ],
      "metadata": {
        "execution": {
          "iopub.status.busy": "2022-10-21T15:19:09.210226Z",
          "iopub.execute_input": "2022-10-21T15:19:09.211461Z",
          "iopub.status.idle": "2022-10-21T15:19:09.223282Z",
          "shell.execute_reply.started": "2022-10-21T15:19:09.21141Z",
          "shell.execute_reply": "2022-10-21T15:19:09.222321Z"
        },
        "trusted": true,
        "id": "BD-eIxI_F55y"
      },
      "execution_count": null,
      "outputs": []
    },
    {
      "cell_type": "markdown",
      "source": [
        "**Cleaning up column names (mainly for handling purposes)**"
      ],
      "metadata": {
        "id": "9EcA4oEZF55y"
      }
    },
    {
      "cell_type": "code",
      "source": [
        "cols_cleaned = []\n",
        "\n",
        "for col in df.columns:\n",
        "    cols_cleaned.append(col.strip().lower())\n",
        "\n",
        "df.columns = cols_cleaned\n",
        "\n",
        "# sanity check\n",
        "df.head()"
      ],
      "metadata": {
        "execution": {
          "iopub.status.busy": "2022-10-21T15:19:09.224535Z",
          "iopub.execute_input": "2022-10-21T15:19:09.22563Z",
          "iopub.status.idle": "2022-10-21T15:19:09.250419Z",
          "shell.execute_reply.started": "2022-10-21T15:19:09.225581Z",
          "shell.execute_reply": "2022-10-21T15:19:09.248917Z"
        },
        "trusted": true,
        "id": "FQ21GRacF55z"
      },
      "execution_count": null,
      "outputs": []
    },
    {
      "cell_type": "markdown",
      "source": [
        "**Quick overview over the individual distributions**"
      ],
      "metadata": {
        "id": "eGYIlZ8sF55z"
      }
    },
    {
      "cell_type": "code",
      "source": [
        "for col in df.columns:\n",
        "    fig, axs = plt.subplots(figsize=std_figure_size)\n",
        "    sns.histplot(data=df, x=col, kde=True, ax=axs)\n",
        "    plt.show()"
      ],
      "metadata": {
        "execution": {
          "iopub.status.busy": "2022-10-21T15:19:09.251953Z",
          "iopub.execute_input": "2022-10-21T15:19:09.252344Z",
          "iopub.status.idle": "2022-10-21T15:19:11.994858Z",
          "shell.execute_reply.started": "2022-10-21T15:19:09.252307Z",
          "shell.execute_reply": "2022-10-21T15:19:11.993527Z"
        },
        "trusted": true,
        "id": "BaIMjEKbF55z"
      },
      "execution_count": null,
      "outputs": []
    },
    {
      "cell_type": "markdown",
      "source": [
        "===> distributions require scaling and standardization"
      ],
      "metadata": {
        "id": "GknEm97rF55z"
      }
    },
    {
      "cell_type": "code",
      "source": [
        "X = df.copy()"
      ],
      "metadata": {
        "execution": {
          "iopub.status.busy": "2022-10-21T15:19:11.99641Z",
          "iopub.execute_input": "2022-10-21T15:19:11.996845Z",
          "iopub.status.idle": "2022-10-21T15:19:12.004315Z",
          "shell.execute_reply.started": "2022-10-21T15:19:11.99681Z",
          "shell.execute_reply": "2022-10-21T15:19:12.003508Z"
        },
        "trusted": true,
        "id": "9lqYqGlmF55z"
      },
      "execution_count": null,
      "outputs": []
    },
    {
      "cell_type": "markdown",
      "source": [
        "# Clustering"
      ],
      "metadata": {
        "id": "aY5A1u_WF55z"
      }
    },
    {
      "cell_type": "markdown",
      "source": [
        "## Scaling and Standardizing"
      ],
      "metadata": {
        "id": "GtcQA4CZF55z"
      }
    },
    {
      "cell_type": "code",
      "source": [
        "X = StandardScaler().fit_transform(df)"
      ],
      "metadata": {
        "execution": {
          "iopub.status.busy": "2022-10-21T15:19:12.0066Z",
          "iopub.execute_input": "2022-10-21T15:19:12.007311Z",
          "iopub.status.idle": "2022-10-21T15:19:12.026827Z",
          "shell.execute_reply.started": "2022-10-21T15:19:12.007277Z",
          "shell.execute_reply": "2022-10-21T15:19:12.025634Z"
        },
        "trusted": true,
        "id": "8I-NHTmTF55z"
      },
      "execution_count": null,
      "outputs": []
    },
    {
      "cell_type": "code",
      "source": [
        "X = PowerTransformer(standardize=False).fit_transform(X)"
      ],
      "metadata": {
        "execution": {
          "iopub.status.busy": "2022-10-21T15:19:12.032022Z",
          "iopub.execute_input": "2022-10-21T15:19:12.032434Z",
          "iopub.status.idle": "2022-10-21T15:19:12.060724Z",
          "shell.execute_reply.started": "2022-10-21T15:19:12.0324Z",
          "shell.execute_reply": "2022-10-21T15:19:12.059555Z"
        },
        "trusted": true,
        "id": "b0iZcbcmF55z"
      },
      "execution_count": null,
      "outputs": []
    },
    {
      "cell_type": "code",
      "source": [
        "X = pd.DataFrame(X, columns=df.columns)\n",
        "\n",
        "# sanity check\n",
        "X.head()"
      ],
      "metadata": {
        "execution": {
          "iopub.status.busy": "2022-10-21T15:19:12.062032Z",
          "iopub.execute_input": "2022-10-21T15:19:12.062332Z",
          "iopub.status.idle": "2022-10-21T15:19:12.080572Z",
          "shell.execute_reply.started": "2022-10-21T15:19:12.062304Z",
          "shell.execute_reply": "2022-10-21T15:19:12.079769Z"
        },
        "trusted": true,
        "id": "p0GGZZYTF550"
      },
      "execution_count": null,
      "outputs": []
    },
    {
      "cell_type": "markdown",
      "source": [
        "## Attempt 1: K-means without any prior dimensionality reduction"
      ],
      "metadata": {
        "id": "hJNNKQ3pF550"
      }
    },
    {
      "cell_type": "markdown",
      "source": [
        "**Identifying the \"optimal\" number of clusters**"
      ],
      "metadata": {
        "id": "OPi-3hO5F550"
      }
    },
    {
      "cell_type": "code",
      "source": [
        "inertias_1 = []\n",
        "range_clusters_1 = np.arange(2, 10, dtype=int)\n",
        "\n",
        "for n in range_clusters_1:\n",
        "    kmeans_1 = KMeans(n_clusters=n, random_state=fixed_random_state).fit(X)\n",
        "    inertias_1.append(kmeans_1.inertia_)\n",
        "\n",
        "# inertias_1"
      ],
      "metadata": {
        "execution": {
          "iopub.status.busy": "2022-10-21T15:19:12.081776Z",
          "iopub.execute_input": "2022-10-21T15:19:12.082585Z",
          "iopub.status.idle": "2022-10-21T15:19:12.648062Z",
          "shell.execute_reply.started": "2022-10-21T15:19:12.082554Z",
          "shell.execute_reply": "2022-10-21T15:19:12.647244Z"
        },
        "trusted": true,
        "id": "YDg761pVF550"
      },
      "execution_count": null,
      "outputs": []
    },
    {
      "cell_type": "code",
      "source": [
        "fig, axs = plt.subplots(figsize=std_figure_size)\n",
        "sns.lineplot(x=range_clusters_1, y=inertias_1)\n",
        "plt.title('Elbow Plot')\n",
        "plt.xlabel('Number of Clusters')\n",
        "plt.ylabel('Inertia')\n",
        "# plt.ylim(bottom=0)\n",
        "plt.show()"
      ],
      "metadata": {
        "execution": {
          "iopub.status.busy": "2022-10-21T15:19:12.649187Z",
          "iopub.execute_input": "2022-10-21T15:19:12.6499Z",
          "iopub.status.idle": "2022-10-21T15:19:12.83396Z",
          "shell.execute_reply.started": "2022-10-21T15:19:12.649866Z",
          "shell.execute_reply": "2022-10-21T15:19:12.833082Z"
        },
        "trusted": true,
        "id": "m0bfCvYHF550"
      },
      "execution_count": null,
      "outputs": []
    },
    {
      "cell_type": "markdown",
      "source": [
        "===> \"kink\" at 3 clusters"
      ],
      "metadata": {
        "id": "tpbkgl9kF550"
      }
    },
    {
      "cell_type": "markdown",
      "source": [
        "**Clustering**"
      ],
      "metadata": {
        "id": "neAFERpiF550"
      }
    },
    {
      "cell_type": "code",
      "source": [
        "labels_1 = KMeans(n_clusters=3, random_state=fixed_random_state).fit_predict(X)"
      ],
      "metadata": {
        "execution": {
          "iopub.status.busy": "2022-10-21T15:19:12.835115Z",
          "iopub.execute_input": "2022-10-21T15:19:12.835461Z",
          "iopub.status.idle": "2022-10-21T15:19:12.860276Z",
          "shell.execute_reply.started": "2022-10-21T15:19:12.835429Z",
          "shell.execute_reply": "2022-10-21T15:19:12.859537Z"
        },
        "trusted": true,
        "id": "iBmBJJxDF550"
      },
      "execution_count": null,
      "outputs": []
    },
    {
      "cell_type": "markdown",
      "source": [
        "Reduction to 2 dimensions *after* clustering so to be able to plot the results"
      ],
      "metadata": {
        "id": "obkH1uqxF551"
      }
    },
    {
      "cell_type": "code",
      "source": [
        "reducer_1 = umap.UMAP(n_components=2, n_neighbors=15, n_jobs=-1, random_state=fixed_random_state)\n",
        "embedding_1 = reducer_1.fit_transform(X)"
      ],
      "metadata": {
        "execution": {
          "iopub.status.busy": "2022-10-21T15:19:12.861399Z",
          "iopub.execute_input": "2022-10-21T15:19:12.861906Z",
          "iopub.status.idle": "2022-10-21T15:19:15.381174Z",
          "shell.execute_reply.started": "2022-10-21T15:19:12.86186Z",
          "shell.execute_reply": "2022-10-21T15:19:15.380271Z"
        },
        "trusted": true,
        "id": "r5sL2ZG7F551"
      },
      "execution_count": null,
      "outputs": []
    },
    {
      "cell_type": "code",
      "source": [
        "plt.figure(figsize=std_figure_size)\n",
        "sns.scatterplot(x=embedding_1[:, 0], y=embedding_1[:, 1], hue=labels_1)\n",
        "plt.legend(title=\"cluster ID\")\n",
        "plt.show()"
      ],
      "metadata": {
        "execution": {
          "iopub.status.busy": "2022-10-21T15:19:15.382614Z",
          "iopub.execute_input": "2022-10-21T15:19:15.382907Z",
          "iopub.status.idle": "2022-10-21T15:19:15.634842Z",
          "shell.execute_reply.started": "2022-10-21T15:19:15.382881Z",
          "shell.execute_reply": "2022-10-21T15:19:15.633414Z"
        },
        "trusted": true,
        "id": "54RSZOl4F551"
      },
      "execution_count": null,
      "outputs": []
    },
    {
      "cell_type": "markdown",
      "source": [
        "===> Results seem reasonable. Minor \"overlaps\"."
      ],
      "metadata": {
        "id": "pYvyoAG4F551"
      }
    },
    {
      "cell_type": "markdown",
      "source": [
        "## Attempt 2: K-means with prior dimensionality reduction via PCA"
      ],
      "metadata": {
        "id": "PIDVVpiCF551"
      }
    },
    {
      "cell_type": "markdown",
      "source": [
        "**Identifying the \"optimal\" number of (principal) components to keep**"
      ],
      "metadata": {
        "id": "9WTkaFsCF551"
      }
    },
    {
      "cell_type": "code",
      "source": [
        "pca_2 = PCA(n_components=10, random_state=fixed_random_state).fit(X)"
      ],
      "metadata": {
        "execution": {
          "iopub.status.busy": "2022-10-21T15:19:15.636038Z",
          "iopub.execute_input": "2022-10-21T15:19:15.636422Z",
          "iopub.status.idle": "2022-10-21T15:19:15.643356Z",
          "shell.execute_reply.started": "2022-10-21T15:19:15.63638Z",
          "shell.execute_reply": "2022-10-21T15:19:15.642497Z"
        },
        "trusted": true,
        "id": "7AwCXRR4F552"
      },
      "execution_count": null,
      "outputs": []
    },
    {
      "cell_type": "code",
      "source": [
        "princ_comps_2 = np.arange(pca_2.n_components_, dtype=int) + 1\n",
        "\n",
        "fig, axs = plt.subplots(figsize=std_figure_size)\n",
        "sns.lineplot(x=princ_comps_2, y=pca_2.explained_variance_ratio_)\n",
        "plt.title('Scree Plot')\n",
        "plt.xlabel('Principal Component')\n",
        "plt.ylabel('Variance Explained')\n",
        "plt.ylim(bottom=0)\n",
        "plt.show()"
      ],
      "metadata": {
        "execution": {
          "iopub.status.busy": "2022-10-21T15:19:15.644762Z",
          "iopub.execute_input": "2022-10-21T15:19:15.645039Z",
          "iopub.status.idle": "2022-10-21T15:19:15.842837Z",
          "shell.execute_reply.started": "2022-10-21T15:19:15.645015Z",
          "shell.execute_reply": "2022-10-21T15:19:15.842183Z"
        },
        "trusted": true,
        "id": "VRDiNy8GF552"
      },
      "execution_count": null,
      "outputs": []
    },
    {
      "cell_type": "markdown",
      "source": [
        "===> \"kink\" at 4 components"
      ],
      "metadata": {
        "id": "6WLaA4oJF552"
      }
    },
    {
      "cell_type": "markdown",
      "source": [
        "**Reduction to 4 dimensions**"
      ],
      "metadata": {
        "id": "F6c69ABCF552"
      }
    },
    {
      "cell_type": "code",
      "source": [
        "X_red_2 = PCA(n_components=4, random_state=fixed_random_state).fit_transform(X)"
      ],
      "metadata": {
        "execution": {
          "iopub.status.busy": "2022-10-21T15:19:15.843948Z",
          "iopub.execute_input": "2022-10-21T15:19:15.844499Z",
          "iopub.status.idle": "2022-10-21T15:19:15.852181Z",
          "shell.execute_reply.started": "2022-10-21T15:19:15.84447Z",
          "shell.execute_reply": "2022-10-21T15:19:15.850658Z"
        },
        "trusted": true,
        "id": "1KcZuxmbF553"
      },
      "execution_count": null,
      "outputs": []
    },
    {
      "cell_type": "code",
      "source": [
        "X_red_2 = pd.DataFrame(X_red_2, columns=[\"pc1\", \"pc2\", \"pc3\", \"pc4\"])\n",
        "\n",
        "X_red_2.head()"
      ],
      "metadata": {
        "execution": {
          "iopub.status.busy": "2022-10-21T15:19:15.853496Z",
          "iopub.execute_input": "2022-10-21T15:19:15.853783Z",
          "iopub.status.idle": "2022-10-21T15:19:15.872518Z",
          "shell.execute_reply.started": "2022-10-21T15:19:15.853758Z",
          "shell.execute_reply": "2022-10-21T15:19:15.871429Z"
        },
        "trusted": true,
        "id": "Vo0hsNEiF553"
      },
      "execution_count": null,
      "outputs": []
    },
    {
      "cell_type": "markdown",
      "source": [
        "**Identifying the \"optimal\" number of clusters**"
      ],
      "metadata": {
        "id": "GjGyFgE7F553"
      }
    },
    {
      "cell_type": "code",
      "source": [
        "inertias_2 = []\n",
        "range_clusters_2 = np.arange(2, 10, dtype=int)\n",
        "\n",
        "for n in range_clusters_2:\n",
        "    kmeans_2 = KMeans(n_clusters=n, random_state=fixed_random_state).fit(X_red_2)\n",
        "    inertias_2.append(kmeans_2.inertia_)\n",
        "\n",
        "# inertias_2"
      ],
      "metadata": {
        "execution": {
          "iopub.status.busy": "2022-10-21T15:19:15.873674Z",
          "iopub.execute_input": "2022-10-21T15:19:15.873971Z",
          "iopub.status.idle": "2022-10-21T15:19:16.079277Z",
          "shell.execute_reply.started": "2022-10-21T15:19:15.873945Z",
          "shell.execute_reply": "2022-10-21T15:19:16.078519Z"
        },
        "trusted": true,
        "id": "F40vglZJF554"
      },
      "execution_count": null,
      "outputs": []
    },
    {
      "cell_type": "code",
      "source": [
        "fig, axs = plt.subplots(figsize=std_figure_size)\n",
        "sns.lineplot(x=range_clusters_2, y=inertias_2)\n",
        "plt.title('Elbow Plot')\n",
        "plt.xlabel('Number of Clusters')\n",
        "plt.ylabel('Inertia')\n",
        "plt.ylim(bottom=0)\n",
        "plt.show()"
      ],
      "metadata": {
        "execution": {
          "iopub.status.busy": "2022-10-21T15:19:16.08053Z",
          "iopub.execute_input": "2022-10-21T15:19:16.081562Z",
          "iopub.status.idle": "2022-10-21T15:19:16.283617Z",
          "shell.execute_reply.started": "2022-10-21T15:19:16.081534Z",
          "shell.execute_reply": "2022-10-21T15:19:16.282187Z"
        },
        "trusted": true,
        "id": "Dfp_A9YXF554"
      },
      "execution_count": null,
      "outputs": []
    },
    {
      "cell_type": "markdown",
      "source": [
        "===> \"kink\" at 3 clusters"
      ],
      "metadata": {
        "id": "awsGElGxF554"
      }
    },
    {
      "cell_type": "markdown",
      "source": [
        "**Clustering on dataset with reduced dimensions**"
      ],
      "metadata": {
        "id": "aV43kCCrF554"
      }
    },
    {
      "cell_type": "code",
      "source": [
        "labels_2 = KMeans(n_clusters=3, random_state=fixed_random_state).fit_predict(X_red_2)"
      ],
      "metadata": {
        "execution": {
          "iopub.status.busy": "2022-10-21T15:19:16.284914Z",
          "iopub.execute_input": "2022-10-21T15:19:16.28521Z",
          "iopub.status.idle": "2022-10-21T15:19:16.308596Z",
          "shell.execute_reply.started": "2022-10-21T15:19:16.285183Z",
          "shell.execute_reply": "2022-10-21T15:19:16.307817Z"
        },
        "trusted": true,
        "id": "X2ik_1MRF554"
      },
      "execution_count": null,
      "outputs": []
    },
    {
      "cell_type": "markdown",
      "source": [
        "Reduction to 2 dimensions *after* clustering so to be able to plot the results"
      ],
      "metadata": {
        "id": "mfGwEH2iF554"
      }
    },
    {
      "cell_type": "code",
      "source": [
        "reducer_2 = umap.UMAP(n_components=2, n_neighbors=15, n_jobs=-1, random_state=fixed_random_state)\n",
        "embedding_2 = reducer_2.fit_transform(X_red_2)"
      ],
      "metadata": {
        "execution": {
          "iopub.status.busy": "2022-10-21T15:19:16.309789Z",
          "iopub.execute_input": "2022-10-21T15:19:16.310529Z",
          "iopub.status.idle": "2022-10-21T15:19:18.388752Z",
          "shell.execute_reply.started": "2022-10-21T15:19:16.310499Z",
          "shell.execute_reply": "2022-10-21T15:19:18.38724Z"
        },
        "trusted": true,
        "id": "ERIsWLVKF554"
      },
      "execution_count": null,
      "outputs": []
    },
    {
      "cell_type": "code",
      "source": [
        "plt.figure(figsize=std_figure_size)\n",
        "sns.scatterplot(x=embedding_2[:, 0], y=embedding_2[:, 1], hue=labels_2)\n",
        "plt.legend(title=\"cluster ID\")\n",
        "plt.show()"
      ],
      "metadata": {
        "execution": {
          "iopub.status.busy": "2022-10-21T15:19:18.390354Z",
          "iopub.execute_input": "2022-10-21T15:19:18.390708Z",
          "iopub.status.idle": "2022-10-21T15:19:18.623933Z",
          "shell.execute_reply.started": "2022-10-21T15:19:18.390679Z",
          "shell.execute_reply": "2022-10-21T15:19:18.6228Z"
        },
        "trusted": true,
        "id": "m7Zy5mqOF554"
      },
      "execution_count": null,
      "outputs": []
    },
    {
      "cell_type": "markdown",
      "source": [
        "===> Results seem reasonable. Minor \"overlaps\"."
      ],
      "metadata": {
        "id": "KMYod5m_F554"
      }
    },
    {
      "cell_type": "markdown",
      "source": [
        "## Attempt 3: K-means with prior dimensionality reduction via UMAP"
      ],
      "metadata": {
        "id": "z8dolmP8F554"
      }
    },
    {
      "cell_type": "markdown",
      "source": [
        "**Reduction to 2 dimensions**"
      ],
      "metadata": {
        "id": "KC42wKiqF555"
      }
    },
    {
      "cell_type": "code",
      "source": [
        "reducer_3 = umap.UMAP(n_components=2, n_neighbors=15, n_jobs=-1, random_state=fixed_random_state)\n",
        "embedding_3 = reducer_3.fit_transform(X)"
      ],
      "metadata": {
        "execution": {
          "iopub.status.busy": "2022-10-21T15:19:18.626244Z",
          "iopub.execute_input": "2022-10-21T15:19:18.627251Z",
          "iopub.status.idle": "2022-10-21T15:19:21.159452Z",
          "shell.execute_reply.started": "2022-10-21T15:19:18.627202Z",
          "shell.execute_reply": "2022-10-21T15:19:21.158383Z"
        },
        "trusted": true,
        "id": "L2Njkq4TF555"
      },
      "execution_count": null,
      "outputs": []
    },
    {
      "cell_type": "code",
      "source": [
        "plt.figure(figsize=std_figure_size)\n",
        "sns.scatterplot(x=embedding_3[:, 0], y=embedding_3[:, 1])\n",
        "plt.show()"
      ],
      "metadata": {
        "execution": {
          "iopub.status.busy": "2022-10-21T15:19:21.16064Z",
          "iopub.execute_input": "2022-10-21T15:19:21.160936Z",
          "iopub.status.idle": "2022-10-21T15:19:21.343227Z",
          "shell.execute_reply.started": "2022-10-21T15:19:21.160896Z",
          "shell.execute_reply": "2022-10-21T15:19:21.34233Z"
        },
        "trusted": true,
        "id": "xZupydBgF555"
      },
      "execution_count": null,
      "outputs": []
    },
    {
      "cell_type": "code",
      "source": [
        "X_red_3 = pd.DataFrame(embedding_3, columns=[\"comp_1\", \"comp_2\"])\n",
        "\n",
        "# sanity check\n",
        "X_red_3.head()"
      ],
      "metadata": {
        "execution": {
          "iopub.status.busy": "2022-10-21T15:19:21.3486Z",
          "iopub.execute_input": "2022-10-21T15:19:21.34917Z",
          "iopub.status.idle": "2022-10-21T15:19:21.360891Z",
          "shell.execute_reply.started": "2022-10-21T15:19:21.349131Z",
          "shell.execute_reply": "2022-10-21T15:19:21.359689Z"
        },
        "trusted": true,
        "id": "AVJn9YqIF555"
      },
      "execution_count": null,
      "outputs": []
    },
    {
      "cell_type": "markdown",
      "source": [
        "**Identifying the \"optimal\" number of clusters**"
      ],
      "metadata": {
        "id": "bG7FMn8SF555"
      }
    },
    {
      "cell_type": "code",
      "source": [
        "inertias_3 = []\n",
        "range_clusters_3 = np.arange(2, 10, dtype=int)\n",
        "\n",
        "for n in range_clusters_3:\n",
        "    kmeans_3 = KMeans(n_clusters=n, random_state=fixed_random_state).fit(X_red_3)\n",
        "    inertias_3.append(kmeans_3.inertia_)\n",
        "\n",
        "# inertias_3"
      ],
      "metadata": {
        "execution": {
          "iopub.status.busy": "2022-10-21T15:19:21.362049Z",
          "iopub.execute_input": "2022-10-21T15:19:21.362748Z",
          "iopub.status.idle": "2022-10-21T15:19:21.595087Z",
          "shell.execute_reply.started": "2022-10-21T15:19:21.362718Z",
          "shell.execute_reply": "2022-10-21T15:19:21.594063Z"
        },
        "trusted": true,
        "id": "YhRs5nVYF555"
      },
      "execution_count": null,
      "outputs": []
    },
    {
      "cell_type": "code",
      "source": [
        "fig, axs = plt.subplots(figsize=std_figure_size)\n",
        "sns.lineplot(x=range_clusters_3, y=inertias_3)\n",
        "plt.title('Elbow Plot')\n",
        "plt.xlabel('Number of Clusters')\n",
        "plt.ylabel('Inertia')\n",
        "plt.ylim(bottom=0)\n",
        "plt.show()"
      ],
      "metadata": {
        "execution": {
          "iopub.status.busy": "2022-10-21T15:19:21.596536Z",
          "iopub.execute_input": "2022-10-21T15:19:21.597271Z",
          "iopub.status.idle": "2022-10-21T15:19:21.778168Z",
          "shell.execute_reply.started": "2022-10-21T15:19:21.597225Z",
          "shell.execute_reply": "2022-10-21T15:19:21.77704Z"
        },
        "trusted": true,
        "id": "Bms-2do1F555"
      },
      "execution_count": null,
      "outputs": []
    },
    {
      "cell_type": "markdown",
      "source": [
        "==> \"kink\" at 3 clusters"
      ],
      "metadata": {
        "id": "duEJHTMqF555"
      }
    },
    {
      "cell_type": "markdown",
      "source": [
        "**Clustering on dataset with reduced dimensions**"
      ],
      "metadata": {
        "id": "dPBm05sQF555"
      }
    },
    {
      "cell_type": "code",
      "source": [
        "labels_3 = KMeans(n_clusters=3, random_state=fixed_random_state).fit_predict(X_red_3)"
      ],
      "metadata": {
        "execution": {
          "iopub.status.busy": "2022-10-21T15:19:21.779103Z",
          "iopub.execute_input": "2022-10-21T15:19:21.779393Z",
          "iopub.status.idle": "2022-10-21T15:19:21.804282Z",
          "shell.execute_reply.started": "2022-10-21T15:19:21.779351Z",
          "shell.execute_reply": "2022-10-21T15:19:21.80327Z"
        },
        "trusted": true,
        "id": "nFZIljTqF555"
      },
      "execution_count": null,
      "outputs": []
    },
    {
      "cell_type": "code",
      "source": [
        "plt.figure(figsize=std_figure_size)\n",
        "sns.scatterplot(data=X_red_3, x=\"comp_1\", y=\"comp_2\", hue=labels_3)\n",
        "plt.legend(title=\"cluster ID\")\n",
        "plt.show()"
      ],
      "metadata": {
        "execution": {
          "iopub.status.busy": "2022-10-21T15:19:21.805748Z",
          "iopub.execute_input": "2022-10-21T15:19:21.806044Z",
          "iopub.status.idle": "2022-10-21T15:19:22.038513Z",
          "shell.execute_reply.started": "2022-10-21T15:19:21.806017Z",
          "shell.execute_reply": "2022-10-21T15:19:22.037622Z"
        },
        "trusted": true,
        "id": "sECshIwhF555"
      },
      "execution_count": null,
      "outputs": []
    },
    {
      "cell_type": "markdown",
      "source": [
        "===> Results seem reasonable. No \"overlaps\" as with the other approaches."
      ],
      "metadata": {
        "id": "QZy1YfyiF555"
      }
    },
    {
      "cell_type": "markdown",
      "source": [
        "## Comparision of the different approaches"
      ],
      "metadata": {
        "id": "NT7TiZz8F555"
      }
    },
    {
      "cell_type": "markdown",
      "source": [
        "**Re-plotting the identified clusters by each approach side-by-side for convenience**"
      ],
      "metadata": {
        "id": "5Kg7qesYF555"
      }
    },
    {
      "cell_type": "code",
      "source": [
        "plt.figure(figsize=std_figure_size)\n",
        "sns.scatterplot(x=embedding_1[:, 0], y=embedding_1[:, 1], hue=labels_1)\n",
        "plt.title(\"Approach 1: K-means without any prior dimensionality reduction\")\n",
        "plt.legend(title=\"cluster ID\")\n",
        "plt.show()\n",
        "\n",
        "plt.figure(figsize=std_figure_size)\n",
        "sns.scatterplot(x=embedding_2[:, 0], y=embedding_2[:, 1], hue=labels_2)\n",
        "plt.title(\"Approach 2: K-means with prior dimensionality reduction via PCA\")\n",
        "plt.legend(title=\"cluster ID\")\n",
        "plt.show()\n",
        "\n",
        "plt.figure(figsize=std_figure_size)\n",
        "sns.scatterplot(data=X_red_3, x=\"comp_1\", y=\"comp_2\", hue=labels_3)\n",
        "plt.title(\"Approach 3: K-means with prior dimensionality reduction via UMAP\")\n",
        "plt.xlabel(None)\n",
        "plt.ylabel(None)\n",
        "plt.legend(title=\"cluster ID\")\n",
        "plt.show()"
      ],
      "metadata": {
        "execution": {
          "iopub.status.busy": "2022-10-21T15:19:22.039864Z",
          "iopub.execute_input": "2022-10-21T15:19:22.040429Z",
          "iopub.status.idle": "2022-10-21T15:19:22.741286Z",
          "shell.execute_reply.started": "2022-10-21T15:19:22.040394Z",
          "shell.execute_reply": "2022-10-21T15:19:22.740162Z"
        },
        "trusted": true,
        "id": "ta1D0C66F555"
      },
      "execution_count": null,
      "outputs": []
    },
    {
      "cell_type": "markdown",
      "source": [
        "===> All three approaches generate reasonable results, with the last one being slightly superior as it does not feature any overlaps at all."
      ],
      "metadata": {
        "id": "3NJNPLUFF556"
      }
    },
    {
      "cell_type": "markdown",
      "source": [
        "**Comparing the elbow plots for each \"optimal number of clusters\" search side-by-side**\n",
        "\n",
        "As a reminder, k-means' inertia metric is *not* normalized."
      ],
      "metadata": {
        "id": "zDOSe6PTF556"
      }
    },
    {
      "cell_type": "code",
      "source": [
        "fig, axs = plt.subplots(figsize=std_figure_size)\n",
        "sns.lineplot(x=range_clusters_1, y=inertias_1)\n",
        "sns.lineplot(x=range_clusters_2, y=inertias_2)\n",
        "sns.lineplot(x=range_clusters_3, y=inertias_3)\n",
        "plt.title('Elbow Plot')\n",
        "plt.xlabel('Number of Clusters')\n",
        "plt.ylabel('Inertia')\n",
        "plt.ylim(bottom=0)\n",
        "plt.show()"
      ],
      "metadata": {
        "execution": {
          "iopub.status.busy": "2022-10-21T15:19:22.743114Z",
          "iopub.execute_input": "2022-10-21T15:19:22.74352Z",
          "iopub.status.idle": "2022-10-21T15:19:22.981881Z",
          "shell.execute_reply.started": "2022-10-21T15:19:22.743485Z",
          "shell.execute_reply": "2022-10-21T15:19:22.980953Z"
        },
        "trusted": true,
        "id": "k12Hbl1wF556"
      },
      "execution_count": null,
      "outputs": []
    },
    {
      "cell_type": "markdown",
      "source": [
        "===> All 3 lines lead to the same conclusions."
      ],
      "metadata": {
        "id": "o1fNm2OaF556"
      }
    },
    {
      "cell_type": "markdown",
      "source": [
        "**Swapping cluster IDs so to make the results for the 3 approaches directly comparable**\n",
        "\n",
        "Taking the label IDs as generated by \"approach 1\" as reference."
      ],
      "metadata": {
        "id": "JqfvMfSWF556"
      }
    },
    {
      "cell_type": "code",
      "source": [
        "def corr_labels_2(elem):\n",
        "    if elem == 1:\n",
        "        return 2\n",
        "    elif elem == 2:\n",
        "        return 1\n",
        "    else:\n",
        "        return elem\n",
        "\n",
        "\n",
        "labels_2 = pd.Series(labels_2).apply(corr_labels_2)"
      ],
      "metadata": {
        "execution": {
          "iopub.status.busy": "2022-10-21T15:19:22.983198Z",
          "iopub.execute_input": "2022-10-21T15:19:22.984324Z",
          "iopub.status.idle": "2022-10-21T15:19:22.992201Z",
          "shell.execute_reply.started": "2022-10-21T15:19:22.98426Z",
          "shell.execute_reply": "2022-10-21T15:19:22.990621Z"
        },
        "trusted": true,
        "id": "T6Keo3wOF556"
      },
      "execution_count": null,
      "outputs": []
    },
    {
      "cell_type": "code",
      "source": [
        "def corr_labels_3(elem):\n",
        "    if elem == 1:\n",
        "        return 0\n",
        "    elif elem == 0:\n",
        "        return 1\n",
        "    else:\n",
        "        return elem\n",
        "\n",
        "\n",
        "labels_3 = pd.Series(labels_3).apply(corr_labels_3)"
      ],
      "metadata": {
        "execution": {
          "iopub.status.busy": "2022-10-21T15:19:22.993454Z",
          "iopub.execute_input": "2022-10-21T15:19:22.993772Z",
          "iopub.status.idle": "2022-10-21T15:19:23.009959Z",
          "shell.execute_reply.started": "2022-10-21T15:19:22.993733Z",
          "shell.execute_reply": "2022-10-21T15:19:23.008303Z"
        },
        "trusted": true,
        "id": "GcbtqHg_F556"
      },
      "execution_count": null,
      "outputs": []
    },
    {
      "cell_type": "markdown",
      "source": [
        "**Side-by-side comparison of the feature distributions for each cluster across all 3 approaches**\n",
        "\n",
        "N.B.: Please keep in mind that each approach can \"order\" the cluster IDs differently, meaning that ID 0 for approach 1 might be the same as ID 2 for approach 2 and ID 1 for approach 3. As there is a quite a bit of randomness to this, I had to give up on \"manually rearranging\" the results so to make it easier to directly cross-compare."
      ],
      "metadata": {
        "id": "wTwjiwfPF556"
      }
    },
    {
      "cell_type": "code",
      "source": [
        "for i, col in enumerate(df.columns):\n",
        "    fig, axs = plt.subplots(nrows=1, ncols=3, sharey=True, figsize=(20,6))\n",
        "    sns.boxenplot(x=labels_1, y=df[col], ax=axs[0])\n",
        "    sns.boxenplot(x=labels_2, y=df[col], ax=axs[1])\n",
        "    sns.boxenplot(x=labels_3, y=df[col], ax=axs[2])\n",
        "    if i == 0:\n",
        "        axs[0].set_title(\"Approach 1: No prior dimensionality reduction\")\n",
        "        axs[1].set_title(\"Approach 2: PCA\")\n",
        "        axs[2].set_title(\"Approach 3: UMAP\")\n",
        "    plt.show()"
      ],
      "metadata": {
        "execution": {
          "iopub.status.busy": "2022-10-21T15:19:23.012081Z",
          "iopub.execute_input": "2022-10-21T15:19:23.012447Z",
          "iopub.status.idle": "2022-10-21T15:19:28.133017Z",
          "shell.execute_reply.started": "2022-10-21T15:19:23.012417Z",
          "shell.execute_reply": "2022-10-21T15:19:28.131939Z"
        },
        "trusted": true,
        "id": "gLXUHKTNF556"
      },
      "execution_count": null,
      "outputs": []
    },
    {
      "cell_type": "markdown",
      "source": [
        "===> Surprisingly enough, the results are *almost* identical!"
      ],
      "metadata": {
        "id": "8E7bNZGAF556"
      }
    },
    {
      "cell_type": "markdown",
      "source": [
        "**How many data points are there in each cluster for each approach?**"
      ],
      "metadata": {
        "id": "EoJdVyVSF556"
      }
    },
    {
      "cell_type": "code",
      "source": [
        "counts_1 = pd.Series(labels_1).value_counts().sort_index()\n",
        "counts_2 = pd.Series(labels_2).value_counts().sort_index()\n",
        "counts_3 = pd.Series(labels_3).value_counts().sort_index()\n",
        "\n",
        "cluster_counts = pd.DataFrame({\"app_1\": counts_1, \"app_2\": counts_2, \"app_3\": counts_3})\n",
        "\n",
        "cluster_counts.index.name = \"cluster_id\"\n",
        "\n",
        "cluster_counts"
      ],
      "metadata": {
        "execution": {
          "iopub.status.busy": "2022-10-21T15:19:28.13412Z",
          "iopub.execute_input": "2022-10-21T15:19:28.134657Z",
          "iopub.status.idle": "2022-10-21T15:19:28.148791Z",
          "shell.execute_reply.started": "2022-10-21T15:19:28.134627Z",
          "shell.execute_reply": "2022-10-21T15:19:28.147591Z"
        },
        "trusted": true,
        "id": "-9rqwB1HF556"
      },
      "execution_count": null,
      "outputs": []
    },
    {
      "cell_type": "markdown",
      "source": [
        "===> Very similar but not identical."
      ],
      "metadata": {
        "id": "JvDxO_MXF556"
      }
    },
    {
      "cell_type": "markdown",
      "source": [
        "# Conclusion\n",
        "\n",
        "The results proved to be **surprisingly similar**, even more so considering that all major components of this analysis (PCA, UMAP, and K-means) have a stochastic component. This, in turn, might even explain the extent of observed differences in the above plot.\n",
        "As a general caveat though, the dataset used here is very small in both, number of features and number of observations.\n",
        "\n",
        "**Please let me know in the comments in case you have a hypothesis as to why those 3 approaches generate results that are seemingly identical. Many thanks!**"
      ],
      "metadata": {
        "id": "fGIrEq_kF557"
      }
    }
  ]
}